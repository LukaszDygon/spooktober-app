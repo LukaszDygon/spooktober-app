{
 "cells": [
  {
   "cell_type": "code",
   "execution_count": 2,
   "metadata": {},
   "outputs": [],
   "source": [
    "import json\n",
    "import pandas as pd\n",
    "import os"
   ]
  },
  {
   "cell_type": "code",
   "execution_count": 99,
   "metadata": {},
   "outputs": [],
   "source": [
    "files = os.listdir('data')\n",
    "records = []\n",
    "for file_name in files:\n",
    "    with open(os.path.join('data', file_name), 'r') as f:\n",
    "        record = json.load(f)\n",
    "        if 'status_message' not in record.keys():\n",
    "            records.append(record)\n",
    "df = pd.json_normalize(records)\n",
    "\n",
    "df['genres.name'] = df['genres'].apply(lambda x: ', '.join([i['name'] for i in x]))\n",
    "df['origin_country'] = df['origin_country'].apply(lambda x: ', '.join(x))\n",
    "df['spoken_languages.english_name'] = df['spoken_languages'].apply(lambda x: ', '.join([i['english_name'] for i in x]))\n",
    "df['spoken_languages.iso_639_1'] = df['spoken_languages'].apply(lambda x: ', '.join([i['iso_639_1'].upper() for i in x]))\n",
    "df['spoken_languages.name'] = df['spoken_languages'].apply(lambda x: ', '.join([i['name'] for i in x]))\n",
    "df['production_companies.logo_path'] = df['production_companies'].apply(lambda x: ', '.join([i['logo_path'] or '' for i in x]))\n",
    "df['production_companies.name'] = df['production_companies'].apply(lambda x: ', '.join([i['name'] for i in x] if x else ''))\n",
    "df['production_companies.origin_country'] = df['production_companies'].apply(lambda x: ', '.join({i['origin_country'] for i in x}))\n",
    "df['production_countries.iso_3166_1'] = df['production_countries'].apply(lambda x: ', '.join([i['iso_3166_1'] for i in x]))\n",
    "df['production_countries.name'] = df['production_countries'].apply(lambda x: ', '.join([i['name'] for i in x]))\n",
    "\n",
    "df.drop(columns=['genres', 'spoken_languages', 'production_companies', 'production_countries'], axis=1, inplace=True)"
   ]
  },
  {
   "cell_type": "code",
   "execution_count": 101,
   "metadata": {},
   "outputs": [
    {
     "data": {
      "text/plain": [
       "adult                                                                              False\n",
       "backdrop_path                                           /jyUcUMvLdUon3HPjbUdAsm754G6.jpg\n",
       "belongs_to_collection                                                                NaN\n",
       "budget                                                                            730000\n",
       "homepage                                                                                \n",
       "id                                                                                   288\n",
       "imdb_id                                                                        tt0044706\n",
       "origin_country                                                                        US\n",
       "original_language                                                                     en\n",
       "original_title                                                                 High Noon\n",
       "overview                               Will Kane, the sheriff of a small town in New ...\n",
       "popularity                                                                        15.918\n",
       "poster_path                                             /m3EzjFuSK49woacPF1PyHcNM39B.jpg\n",
       "release_date                                                                  1952-06-09\n",
       "revenue                                                                          8000000\n",
       "runtime                                                                               85\n",
       "status                                                                          Released\n",
       "tagline                                     The story of a man who was too proud to run!\n",
       "title                                                                          High Noon\n",
       "video                                                                              False\n",
       "vote_average                                                                        7.68\n",
       "vote_count                                                                          1394\n",
       "belongs_to_collection.id                                                             NaN\n",
       "belongs_to_collection.name                                                           NaN\n",
       "belongs_to_collection.poster_path                                                    NaN\n",
       "belongs_to_collection.backdrop_path                                                  NaN\n",
       "genres.name                                                            Western, Thriller\n",
       "spoken_languages.english_name                                   French, English, Italian\n",
       "spoken_languages.iso_639_1                                                    FR, EN, IT\n",
       "spoken_languages.name                                        Français, English, Italiano\n",
       "production_companies.logo_path                        , /1SEj4nyG3JPBSKBbFhtdcHRaIF9.png\n",
       "production_companies.name                     Stanley Kramer Productions, United Artists\n",
       "production_companies.origin_country                                                   US\n",
       "production_countries.iso_3166_1                                                       US\n",
       "production_countries.name                                       United States of America\n",
       "Name: 0, dtype: object"
      ]
     },
     "execution_count": 101,
     "metadata": {},
     "output_type": "execute_result"
    }
   ],
   "source": [
    "df.loc[0]"
   ]
  },
  {
   "cell_type": "code",
   "execution_count": 92,
   "metadata": {},
   "outputs": [],
   "source": []
  },
  {
   "cell_type": "code",
   "execution_count": 94,
   "metadata": {},
   "outputs": [],
   "source": []
  },
  {
   "cell_type": "code",
   "execution_count": null,
   "metadata": {},
   "outputs": [],
   "source": []
  }
 ],
 "metadata": {
  "kernelspec": {
   "display_name": ".venv",
   "language": "python",
   "name": "python3"
  },
  "language_info": {
   "codemirror_mode": {
    "name": "ipython",
    "version": 3
   },
   "file_extension": ".py",
   "mimetype": "text/x-python",
   "name": "python",
   "nbconvert_exporter": "python",
   "pygments_lexer": "ipython3",
   "version": "3.12.3"
  }
 },
 "nbformat": 4,
 "nbformat_minor": 2
}
